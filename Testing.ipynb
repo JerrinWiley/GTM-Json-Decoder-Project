{
 "cells": [
  {
   "cell_type": "code",
   "execution_count": 1,
   "metadata": {},
   "outputs": [],
   "source": [
    "import json\n",
    "import csv\n",
    "import pandas as pd"
   ]
  },
  {
   "cell_type": "code",
   "execution_count": 2,
   "metadata": {},
   "outputs": [],
   "source": [
    "# Initializations\n",
    "file_name = \"GTM-MVPNN2_workspace1000413.json\""
   ]
  },
  {
   "cell_type": "code",
   "execution_count": 3,
   "metadata": {},
   "outputs": [],
   "source": [
    "df = pd.read_json(file_name)"
   ]
  },
  {
   "cell_type": "code",
   "execution_count": 4,
   "metadata": {},
   "outputs": [],
   "source": [
    "df2 = df.loc['trigger','containerVersion']\n",
    "df3 = pd.DataFrame(df2)"
   ]
  },
  {
   "cell_type": "code",
   "execution_count": 5,
   "metadata": {},
   "outputs": [],
   "source": [
    "df4 = df3.sort_values(by=['name'])"
   ]
  },
  {
   "cell_type": "code",
   "execution_count": 6,
   "metadata": {},
   "outputs": [],
   "source": [
    "row = 0\n",
    "\n",
    "while row < len(df4):\n",
    "    l = df4.loc[row, 'filter']\n",
    "    n = 1\n",
    "    try:\n",
    "        for i in l:\n",
    "#             print(i)\n",
    "            string = str('')\n",
    "            string += i['type']\n",
    "            q = 1\n",
    "            for j in i['parameter']:\n",
    "        #         print(j)\n",
    "                if q < 2:\n",
    "                    string = j['value'] + ' '  + string\n",
    "                elif q > 2:\n",
    "                    pass\n",
    "                else:\n",
    "                    string += ' ' + j['value']\n",
    "                q += 1\n",
    "    #         print(string)\n",
    "            column_name = 'filter ' + str(n)\n",
    "    #         print(column_name)\n",
    "            df4.loc[row, column_name] = string\n",
    "            n += 1\n",
    "    except:\n",
    "#         print(row)\n",
    "#         print('missing')\n",
    "        pass\n",
    "    row += 1"
   ]
  },
  {
   "cell_type": "code",
   "execution_count": 7,
   "metadata": {},
   "outputs": [],
   "source": [
    "row = 0\n",
    "\n",
    "while row < len(df4):\n",
    "    try:\n",
    "        string = ''\n",
    "        l = df4.loc[row, 'customEventFilter'][0]\n",
    "        k = df4.loc[row, 'customEventFilter'][0]['type']\n",
    "        i = 0\n",
    "        string = df4.loc[row, 'customEventFilter'][0]['parameter'][0]['value'] + ' ' + df4.loc[row, 'customEventFilter'][0]['type'] + ' ' + df4.loc[row, 'customEventFilter'][0]['parameter'][1]['value']\n",
    "        df4.loc[row, 'eventFilter'] = string\n",
    "    except:\n",
    "        pass\n",
    "    row += 1"
   ]
  },
  {
   "cell_type": "code",
   "execution_count": 8,
   "metadata": {},
   "outputs": [],
   "source": [
    "df5 = df4.drop(['filter','fingerprint','autoEventFilter','waitForTags','checkValidation','waitForTagsTimeout','uniqueTriggerId', 'customEventFilter'], axis=1)"
   ]
  },
  {
   "cell_type": "code",
   "execution_count": 9,
   "metadata": {},
   "outputs": [],
   "source": [
    "df_final = df5.iloc[:, [0,1,2,3,4,9,7,8,5,6]]"
   ]
  },
  {
   "cell_type": "code",
   "execution_count": 10,
   "metadata": {},
   "outputs": [],
   "source": [
    "df_final.to_csv('testing.csv')"
   ]
  }
 ],
 "metadata": {
  "kernelspec": {
   "display_name": "Python 3",
   "language": "python",
   "name": "python3"
  },
  "language_info": {
   "codemirror_mode": {
    "name": "ipython",
    "version": 3
   },
   "file_extension": ".py",
   "mimetype": "text/x-python",
   "name": "python",
   "nbconvert_exporter": "python",
   "pygments_lexer": "ipython3",
   "version": "3.8.5"
  }
 },
 "nbformat": 4,
 "nbformat_minor": 4
}
